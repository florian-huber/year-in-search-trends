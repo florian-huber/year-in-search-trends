{
 "cells": [
  {
   "cell_type": "markdown",
   "id": "fae66d12-ce38-4768-8f0d-39b0e8dd16ad",
   "metadata": {},
   "source": [
    "# Initializations\n",
    "Categories: https://github.com/pat310/google-trends-api/wiki/Google-Trends-Categories\n",
    "\n",
    "Country Codes: https://en.wikipedia.org/wiki/List_of_ISO_3166_country_codes"
   ]
  },
  {
   "cell_type": "code",
   "execution_count": null,
   "id": "c992e650-7b37-4ff0-a747-057ee5546577",
   "metadata": {},
   "outputs": [],
   "source": [
    "CATEGORY = 0\n",
    "GEO_CODE = 'US'\n",
    "TIMEFRAME = '2021-01-01 2021-12-31'\n",
    "FONT = 'Century Gothic'"
   ]
  },
  {
   "cell_type": "markdown",
   "id": "4d45a7c1-a962-407b-a2ca-354eb4272055",
   "metadata": {},
   "source": [
    "# Imports"
   ]
  },
  {
   "cell_type": "code",
   "execution_count": null,
   "id": "71819f86-07f3-47dd-b591-576e5526e65c",
   "metadata": {},
   "outputs": [],
   "source": [
    "import numpy as np\n",
    "import pandas as pd\n",
    "import seaborn as sns\n",
    "import matplotlib.pyplot as plt\n",
    "from datetime import datetime\n",
    "from pytrends.request import TrendReq"
   ]
  },
  {
   "cell_type": "markdown",
   "id": "1ffba07c-fccc-4e57-9654-49bcaf5ba8a5",
   "metadata": {},
   "source": [
    "# Define Keywords \n",
    "Official Google Trends: https://trends.google.com/trends"
   ]
  },
  {
   "cell_type": "code",
   "execution_count": null,
   "id": "5c3961da-4b4d-447b-a27b-5725db39fc39",
   "metadata": {},
   "outputs": [],
   "source": [
    "KEYWORDS = ['Keyword1', 'Keyword2', 'Keyword3']"
   ]
  },
  {
   "cell_type": "markdown",
   "id": "c5880323-db3b-42eb-8234-bfa465b10935",
   "metadata": {},
   "source": [
    "# Get Data"
   ]
  },
  {
   "cell_type": "code",
   "execution_count": null,
   "id": "6effc7cf-3226-4e7b-b566-1dbf6412f7d3",
   "metadata": {},
   "outputs": [],
   "source": [
    "pytrends = TrendReq(tz=360)"
   ]
  },
  {
   "cell_type": "code",
   "execution_count": null,
   "id": "6dd1197b-ed3e-4533-8731-aaef0e4366a1",
   "metadata": {},
   "outputs": [],
   "source": [
    "# Dividing keyword list into chunks as API only takes up to 5 elements at a time\n",
    "def chunk_generator(lst, n=5):\n",
    "    for i in range(0, len(lst), n):\n",
    "        yield lst[i:i+n]\n",
    "\n",
    "chunks = chunk_generator(KEYWORDS)\n",
    "\n",
    "df = pd.DataFrame(columns=['date'])\n",
    "for chunk in chunks:\n",
    "    pytrends.build_payload(chunk, cat=CATEGORY,\n",
    "                           geo=GEO_CODE,\n",
    "                           timeframe=TIMEFRAME)\n",
    "    df_chunk = pytrends.interest_over_time()\n",
    "    df_chunk = df_chunk.drop('isPartial', axis=1)\n",
    "    df = pd.merge(df, df_chunk, how='right', on='date')\n",
    "df = df.set_index('date')"
   ]
  },
  {
   "cell_type": "markdown",
   "id": "f6e7fbf6-28aa-4a9f-a2ed-3b5908bba88a",
   "metadata": {},
   "source": [
    "# Normalize Data"
   ]
  },
  {
   "cell_type": "code",
   "execution_count": null,
   "id": "c6e09b30-8f9b-485c-ae5c-eb94aece82b6",
   "metadata": {},
   "outputs": [],
   "source": [
    "df = df*(100/df.max())\n",
    "df_longform = df.reset_index().melt(id_vars=['date'],\n",
    "                                    var_name='Keyword',\n",
    "                                    value_name='Interest')"
   ]
  },
  {
   "cell_type": "markdown",
   "id": "f3a0f35d-930d-42d6-bfab-9a451e26cc31",
   "metadata": {},
   "source": [
    "# Visualizations"
   ]
  },
  {
   "cell_type": "markdown",
   "id": "6fcb42cc-edd5-4ec8-a44b-fd8a9915c9f8",
   "metadata": {},
   "source": [
    "Code inspired by https://seaborn.pydata.org/examples/kde_ridgeplot.html"
   ]
  },
  {
   "cell_type": "code",
   "execution_count": null,
   "id": "f03bf4ad-8e2e-4386-bcde-a8e74192bb63",
   "metadata": {},
   "outputs": [],
   "source": [
    "sns.set_theme(style=\"white\", rc={\"axes.facecolor\": (0, 0, 0, 0), \"font.family\": FONT})\n",
    "plt.rcParams[\"xtick.labelsize\"] = 14\n",
    "plt.rcParams[\"font.family\"] = [FONT]\n",
    "\n",
    "g = sns.FacetGrid(df_longform, row=\"Keyword\", hue=\"Keyword\",\n",
    "                  aspect=15, height=.55, palette='flare_r')\n",
    "\n",
    "def label(x, color, label):\n",
    "    ax = plt.gca()\n",
    "    ax.text(0, .2, label, fontsize=14, fontweight=\"bold\", color=color,\n",
    "            ha=\"left\", va=\"center\", transform=ax.transAxes)\n",
    "\n",
    "g.map(label, \"date\")\n",
    "g.map(plt.plot, 'date', 'Interest', color='white', linewidth=2.5)\n",
    "g.map(plt.fill_between, \"date\", \"Interest\", alpha=1)\n",
    "\n",
    "g.refline(y=0, linewidth=2, linestyle=\"-\", color=None, clip_on=False)\n",
    "\n",
    "g.figure.subplots_adjust(hspace=-.35)\n",
    "\n",
    "g.set_titles(\"\")\n",
    "g.set(yticks=[], ylabel=\"\", xlabel='', xlim=[datetime(2020, 11, 1), datetime.today()],\n",
    "      xticks=[datetime(2021, i, 12) for i in range(1, 13)], \n",
    "      xticklabels=['JAN', 'FEB', 'MAR', 'APR', 'MAY', 'JUN',\n",
    "                   'JUL', 'AUG', 'SEP', 'OCT', 'NOV', 'DEC'])\n",
    "g.despine(bottom=True, left=True)\n",
    "plt.suptitle(\"2021 in Google Trends\", fontsize=20)"
   ]
  }
 ],
 "metadata": {
  "kernelspec": {
   "display_name": "trends",
   "language": "python",
   "name": "trends"
  },
  "language_info": {
   "codemirror_mode": {
    "name": "ipython",
    "version": 3
   },
   "file_extension": ".py",
   "mimetype": "text/x-python",
   "name": "python",
   "nbconvert_exporter": "python",
   "pygments_lexer": "ipython3",
   "version": "3.7.11"
  }
 },
 "nbformat": 4,
 "nbformat_minor": 5
}
